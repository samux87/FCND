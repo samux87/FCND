{
 "cells": [
  {
   "cell_type": "markdown",
   "metadata": {},
   "source": [
    "# Probabilistic Roadmap\n",
    "\n",
    "\n",
    "In this notebook you'll expand on previous random sampling exercises by creating a graph from the points and running A*.\n",
    "\n",
    "1. Load the obstacle map data\n",
    "2. Sample nodes (use KDTrees here)\n",
    "3. Connect nodes (use KDTrees here)\n",
    "4. Visualize graph\n",
    "5. Define heuristic\n",
    "6. Define search method\n",
    "7. Execute and visualize\n",
    "\n",
    "We'll load the data for you and provide a template for visualization."
   ]
  },
  {
   "cell_type": "code",
   "execution_count": null,
   "metadata": {},
   "outputs": [],
   "source": [
    "import numpy as np\n",
    "import matplotlib.pyplot as plt\n",
    "from shapely.geometry import Polygon, Point, LineString\n",
    "from queue import PriorityQueue\n",
    "\n",
    "%matplotlib inline"
   ]
  },
  {
   "cell_type": "code",
   "execution_count": null,
   "metadata": {},
   "outputs": [],
   "source": [
    "# Again, ugly but we need the latest version of networkx!\n",
    "import sys\n",
    "!{sys.executable} -m pip install -Iv networkx==2.1\n",
    "import pkg_resources\n",
    "pkg_resources.require(\"networkx==2.1\")\n",
    "import networkx as nx"
   ]
  },
  {
   "cell_type": "code",
   "execution_count": null,
   "metadata": {},
   "outputs": [],
   "source": [
    "plt.rcParams['figure.figsize'] = 14, 14"
   ]
  },
  {
   "cell_type": "markdown",
   "metadata": {},
   "source": [
    "## Step 1 - Load Data"
   ]
  },
  {
   "cell_type": "code",
   "execution_count": null,
   "metadata": {},
   "outputs": [],
   "source": [
    "# This is the same obstacle data from the previous lesson.\n",
    "filename = 'colliders.csv'\n",
    "data = np.loadtxt(filename, delimiter=',', dtype='Float64', skiprows=2)\n",
    "print(data)"
   ]
  },
  {
   "cell_type": "markdown",
   "metadata": {},
   "source": [
    "## Step 2 - Sample Points\n",
    "\n",
    "\n",
    "You may want to limit the z-axis values."
   ]
  },
  {
   "cell_type": "code",
   "execution_count": null,
   "metadata": {},
   "outputs": [],
   "source": [
    "# TODO: sample points randomly\n",
    "# then use KDTree to find nearest neighbor polygon\n",
    "# and test for collision"
   ]
  },
  {
   "cell_type": "markdown",
   "metadata": {},
   "source": [
    "## Step 3 - Connect Nodes\n",
    "\n",
    "Now we have to connect the nodes. There are many ways they might be done, it's completely up to you. The only restriction being no edge connecting two nodes may pass through an obstacle.\n",
    "\n",
    "NOTE: You can use `LineString()` from the `shapely` library to create a line. Additionally, `shapely` geometry objects have a method `.crosses` which return `True` if the geometries cross paths, for instance your `LineString()` with an obstacle `Polygon()`!"
   ]
  },
  {
   "cell_type": "code",
   "execution_count": null,
   "metadata": {},
   "outputs": [],
   "source": [
    "# TODO: connect nodes\n",
    "# Suggested method\n",
    "    # 1) cast nodes into a graph called \"g\" using networkx\n",
    "    # 2) write a method \"can_connect()\" that:\n",
    "        # casts two points as a shapely LineString() object\n",
    "        # tests for collision with a shapely Polygon() object\n",
    "        # returns True if connection is possible, False otherwise\n",
    "    # 3) write a method \"create_graph()\" that:\n",
    "        # defines a networkx graph as g = Graph()\n",
    "        # defines a tree = KDTree(nodes)\n",
    "        # test for connectivity between each node and \n",
    "            # k of it's nearest neighbors\n",
    "        # if nodes are connectable, add an edge to graph\n",
    "    # Iterate through all candidate nodes!"
   ]
  },
  {
   "cell_type": "markdown",
   "metadata": {},
   "source": [
    "## Step 4 - Visualize Graph"
   ]
  },
  {
   "cell_type": "code",
   "execution_count": null,
   "metadata": {},
   "outputs": [],
   "source": [
    "# Create a grid map of the world\n",
    "from grid import create_grid\n",
    "# This will create a grid map at 1 m above ground level\n",
    "grid = create_grid(data, 1, 1)\n",
    "\n",
    "fig = plt.figure()\n",
    "\n",
    "plt.imshow(grid, cmap='Greys', origin='lower')\n",
    "\n",
    "nmin = np.min(data[:, 0])\n",
    "emin = np.min(data[:, 1])\n",
    "\n",
    "# If you have a graph called \"g\" these plots should work\n",
    "# Draw edges\n",
    "#for (n1, n2) in g.edges:\n",
    "#    plt.plot([n1[1] - emin, n2[1] - emin], [n1[0] - nmin, n2[0] - nmin], 'black' , alpha=0.5)\n",
    "\n",
    "# Draw all nodes connected or not in blue\n",
    "#for n1 in nodes:\n",
    "#    plt.scatter(n1[1] - emin, n1[0] - nmin, c='blue')\n",
    "    \n",
    "# Draw connected nodes in red\n",
    "#for n1 in g.nodes:\n",
    "#    plt.scatter(n1[1] - emin, n1[0] - nmin, c='red')\n",
    "    \n",
    "\n",
    "\n",
    "plt.xlabel('NORTH')\n",
    "plt.ylabel('EAST')\n",
    "\n",
    "plt.show()"
   ]
  },
  {
   "cell_type": "markdown",
   "metadata": {},
   "source": [
    "## Step 5 - Define Heuristic"
   ]
  },
  {
   "cell_type": "code",
   "execution_count": null,
   "metadata": {},
   "outputs": [],
   "source": [
    "def heuristic(n1, n2):\n",
    "    # TODO: complete\n",
    "  "
   ]
  },
  {
   "cell_type": "code",
   "execution_count": null,
   "metadata": {},
   "outputs": [],
   "source": []
  },
  {
   "cell_type": "markdown",
   "metadata": {},
   "source": [
    "## Step 6 - Complete A*"
   ]
  },
  {
   "cell_type": "code",
   "execution_count": null,
   "metadata": {},
   "outputs": [],
   "source": [
    "def a_star(graph, heuristic, start, goal):\n",
    "    \"\"\"Modified A* to work with NetworkX graphs.\"\"\"\n",
    "    \n",
    "    # TODO: complete\n",
    "\n"
   ]
  },
  {
   "cell_type": "code",
   "execution_count": null,
   "metadata": {},
   "outputs": [],
   "source": []
  },
  {
   "cell_type": "markdown",
   "metadata": {},
   "source": [
    "## Step 7 - Visualize Path"
   ]
  },
  {
   "cell_type": "code",
   "execution_count": null,
   "metadata": {},
   "outputs": [],
   "source": [
    "fig = plt.figure()\n",
    "\n",
    "# draw nodes\n",
    "for n1 in g.nodes:\n",
    "    plt.scatter(n1[1], n1[0], c='red')\n",
    "    \n",
    "# draw edges\n",
    "for (n1, n2) in g.edges:\n",
    "    plt.plot([n1[1], n2[1]], [n1[0], n2[0]], 'black')\n",
    "    \n",
    "# TODO: add code to visualize the path\n",
    "\n",
    "nmin = 0\n",
    "nmax = 0\n",
    "for n1 in g.nodes:\n",
    "    nmin = min(n1[1], nmin)\n",
    "    nmax = max(n1[1], nmax)\n",
    "ax.set_xlim(nmax, nmin)\n",
    "\n",
    "plt.xlabel('NORTH')\n",
    "plt.ylabel('EAST')\n",
    "\n",
    "plt.show()"
   ]
  },
  {
   "cell_type": "markdown",
   "metadata": {},
   "source": [
    "[solution](/notebooks/Probabilistic-Roadmap-Solution.ipynb)"
   ]
  },
  {
   "cell_type": "code",
   "execution_count": null,
   "metadata": {},
   "outputs": [],
   "source": []
  }
 ],
 "metadata": {
  "kernelspec": {
   "display_name": "Python 3",
   "language": "python",
   "name": "python3"
  },
  "language_info": {
   "codemirror_mode": {
    "name": "ipython",
    "version": 3
   },
   "file_extension": ".py",
   "mimetype": "text/x-python",
   "name": "python",
   "nbconvert_exporter": "python",
   "pygments_lexer": "ipython3",
   "version": "3.6.3"
  }
 },
 "nbformat": 4,
 "nbformat_minor": 2
}
