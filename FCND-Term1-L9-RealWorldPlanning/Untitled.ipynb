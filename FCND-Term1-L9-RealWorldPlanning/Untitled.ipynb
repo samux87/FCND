{
 "cells": [
  {
   "cell_type": "code",
   "execution_count": 13,
   "metadata": {},
   "outputs": [
    {
     "name": "stdout",
     "output_type": "stream",
     "text": [
      "[[5, 0, 0], [4, 0, 0], [4, 0, 0], [4, 1, 0], [4, 1, 0], [4, 2, 0], [4, 2, 0], [4, 2, 0], [3, 3, 0], [3, 3, 0], [3, 3, 1], [2, 4, 1], [2, 4, 1], [2, 4, 1], [1, 4, 1], [1, 4, 1], [0, 4, 1], [0, 4, 1], [0, 5, 1], [0, 4, 1], [0, 4, 2], [-1, 4, 2], [-1, 4, 2], [-2, 4, 2], [-2, 4, 2], [-2, 4, 2], [-3, 3, 2], [-3, 3, 2], [-3, 3, 2], [-4, 2, 2], [-4, 2, 3], [-4, 2, 3], [-4, 1, 3], [-4, 1, 3], [-4, 0, 3], [-4, 0, 3], [-5, 0, 3], [-4, 0, 3], [-4, 0, 3], [-4, -1, 3]]\n"
     ]
    }
   ],
   "source": [
    "import numpy as np\n",
    "\n",
    "helix = []\n",
    "r = 5\n",
    "w = 10\n",
    "v_h = 0.2\n",
    "T = 20\n",
    "dt = 0.5\n",
    "for t in np.arange(0, T, dt):\n",
    "    pt = [int(r*np.cos(np.deg2rad(w*t))), \n",
    "          int(r*np.sin(np.deg2rad(w*t))),\n",
    "          int(v_h*t)]\n",
    "    helix.append(pt)\n",
    "#    print(pt)\n",
    "print(helix)\n"
   ]
  },
  {
   "cell_type": "code",
   "execution_count": 30,
   "metadata": {},
   "outputs": [],
   "source": [
    "local = [1.5, 2.5, 4.1]"
   ]
  },
  {
   "cell_type": "code",
   "execution_count": 35,
   "metadata": {},
   "outputs": [
    {
     "data": {
      "text/plain": [
       "array([1.5, 2.5, 4.1, 0. ])"
      ]
     },
     "execution_count": 35,
     "metadata": {},
     "output_type": "execute_result"
    }
   ],
   "source": [
    "np.append(np.array([1.5, 2.5, 4.1]), 0)"
   ]
  },
  {
   "cell_type": "code",
   "execution_count": 31,
   "metadata": {},
   "outputs": [
    {
     "data": {
      "text/plain": [
       "[[6, 2, 4],\n",
       " [5, 2, 4],\n",
       " [5, 2, 4],\n",
       " [5, 3, 4],\n",
       " [5, 3, 4],\n",
       " [5, 4, 4],\n",
       " [5, 4, 4],\n",
       " [5, 4, 4],\n",
       " [4, 5, 4],\n",
       " [4, 5, 4],\n",
       " [4, 5, 5],\n",
       " [3, 6, 5],\n",
       " [3, 6, 5],\n",
       " [3, 6, 5],\n",
       " [2, 6, 5],\n",
       " [2, 6, 5],\n",
       " [1, 6, 5],\n",
       " [1, 6, 5],\n",
       " [1, 7, 5],\n",
       " [1, 6, 5],\n",
       " [1, 6, 6],\n",
       " [0, 6, 6],\n",
       " [0, 6, 6],\n",
       " [0, 6, 6],\n",
       " [0, 6, 6],\n",
       " [0, 6, 6],\n",
       " [-1, 5, 6],\n",
       " [-1, 5, 6],\n",
       " [-1, 5, 6],\n",
       " [-2, 4, 6],\n",
       " [-2, 4, 7],\n",
       " [-2, 4, 7],\n",
       " [-2, 3, 7],\n",
       " [-2, 3, 7],\n",
       " [-2, 2, 7],\n",
       " [-2, 2, 7],\n",
       " [-3, 2, 7],\n",
       " [-2, 2, 7],\n",
       " [-2, 2, 7],\n",
       " [-2, 1, 7]]"
      ]
     },
     "execution_count": 31,
     "metadata": {},
     "output_type": "execute_result"
    }
   ],
   "source": [
    "(np.array(helix) + np.array(local)).astype(int).tolist()"
   ]
  },
  {
   "cell_type": "code",
   "execution_count": null,
   "metadata": {},
   "outputs": [],
   "source": []
  }
 ],
 "metadata": {
  "kernelspec": {
   "display_name": "Python 3",
   "language": "python",
   "name": "python3"
  },
  "language_info": {
   "codemirror_mode": {
    "name": "ipython",
    "version": 3
   },
   "file_extension": ".py",
   "mimetype": "text/x-python",
   "name": "python",
   "nbconvert_exporter": "python",
   "pygments_lexer": "ipython3",
   "version": "3.6.3"
  }
 },
 "nbformat": 4,
 "nbformat_minor": 2
}
