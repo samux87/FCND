{
 "cells": [
  {
   "cell_type": "markdown",
   "metadata": {},
   "source": [
    "# Kalman Filter\n",
    "In this exercise, we will develop the Kalman Filter (KF) for the one-dimensional case and explore the key functions. "
   ]
  },
  {
   "cell_type": "code",
   "execution_count": null,
   "metadata": {
    "collapsed": true
   },
   "outputs": [],
   "source": [
    "%matplotlib inline \n",
    "%config InlineBackend.figure_format = 'retina'\n",
    "\n",
    "import numpy as np \n",
    "#import math\n",
    "import matplotlib.pyplot as plt\n",
    "import matplotlib.pylab as pylab\n",
    "import jdc\n",
    "from ipywidgets import interactive\n",
    "from scipy.stats import multivariate_normal\n",
    "\n",
    "from StateSpaceDisplay import state_space_display, state_space_display_updated\n",
    "\n",
    "pylab.rcParams['figure.figsize'] = 10, 10"
   ]
  },
  {
   "cell_type": "code",
   "execution_count": null,
   "metadata": {
    "collapsed": true
   },
   "outputs": [],
   "source": [
    "pylab.rcParams['figure.figsize'] = 10, 10"
   ]
  },
  {
   "cell_type": "markdown",
   "metadata": {},
   "source": [
    "For simplicity, the drone that can only move in the vertical direction and the state is the vertical position and velocity $x=(\\dot{z}, z)$. The control input for the drone is the vertical acceleration $u = \\ddot{z}$. The KF additionally has measurement error associated with the measurements.\n",
    "\n",
    "The KF will require two type of uncertainty characteristics:\n",
    "\n",
    "* measurement - the accuracy of the sensor\n",
    "* motion - drone's ability to precisely execute a given command\n",
    "\n",
    "The transition function has the following form:\n",
    "\n",
    "$$\n",
    "g(x_t,u_t,\\Delta t) = \\begin{bmatrix} 1 & 0 \\\\ \\Delta t & 1 \\end{bmatrix} \\begin{bmatrix} \\dot{z}\\\\z \\end{bmatrix} + \\begin{bmatrix} \\Delta t \\\\ 0 \\end{bmatrix} \\begin{bmatrix} \\ddot{z} \\end{bmatrix}  = A_t \\mu_{t-1}+B_tu_t\n",
    "$$\n",
    "\n",
    "The partial derivative of the $g$ relative to each component is:\n",
    "\n",
    "$$\n",
    "g'(x_t,u_t,\\Delta t) = \\begin{bmatrix} 1 & 0 \\\\ \\Delta t & 1   \\end{bmatrix}\n",
    "$$\n",
    "\n",
    "$A$ and $B$ matrices, in general, depend on the external parameters we declare them as the separate functions."
   ]
  },
  {
   "cell_type": "code",
   "execution_count": null,
   "metadata": {
    "collapsed": true
   },
   "outputs": [],
   "source": [
    "class KF:\n",
    "    def __init__(self,\n",
    "                 sensor_sigma,             # Sensor noise\n",
    "                 velocity_sigma,           # Velocity uncertainty\n",
    "                 position_sigma,           # Position uncertainty\n",
    "                 dt                        # dt time between samples \n",
    "                ):\n",
    "        \n",
    "        # Sensor measurement covariance\n",
    "        self.r_t = np.array([[sensor_sigma**2]])\n",
    "        \n",
    "        # Motion model noise for velocity and position\n",
    "        self.q_t = np.array([[velocity_sigma**2,0.0],\n",
    "                             [0.0,position_sigma**2]]) \n",
    "        self.dt = dt\n",
    "        \n",
    "        self.mu = np.array([0.0])\n",
    "        self.sigma = np.array([0.0])\n",
    "        \n",
    "        self.mu_bar = self.mu\n",
    "        self.sigma_bar = self.sigma\n",
    "\n",
    "    @property\n",
    "    def a(self):\n",
    "        return np.array([[1.0, 0.0],\n",
    "                         [self.dt, 1.0]])\n",
    "\n",
    "    @property\n",
    "    def b(self):\n",
    "        return np.array([[self.dt],\n",
    "                         [0.0]])\n",
    "\n",
    "    def g(self, \n",
    "          previous_mu, # Previous mu\n",
    "          u            # Control input \\ddot{z}\n",
    "          ):\n",
    "        '''Generates the transition function for the height. '''\n",
    "        # TODO: return the g matrix using A and B matrixes \n",
    "        return None\n",
    "\n",
    "    def g_prime(self):\n",
    "        '''The derivative of the transition function.'''\n",
    "        # TODO: return the derivative of the g matrix\n",
    "        return None\n",
    "\n",
    "\n",
    "    def initial_values(self, \n",
    "                       mu_0, \n",
    "                       sigma_0):\n",
    "\n",
    "        '''Setting initial values for the mu and sigma of the KF'''\n",
    "\n",
    "        self.mu = mu_0\n",
    "        self.sigma = sigma_0\n",
    "\n",
    "\n",
    "\n",
    "    def predict(self, \n",
    "                u             # Control input \n",
    "               ):\n",
    "\n",
    "        '''Prediction step of the KF filter '''\n",
    "\n",
    "        # TODO: Follow the prediction steps outlined in theoretical part of the lesson and implement the next variables. \n",
    "        # mu_bar = None\n",
    "        # g_now  = None\n",
    "        # sigma_bar = None\n",
    "\n",
    "        \n",
    "        self.mu_bar = mu_bar\n",
    "        self.sigma_bar = sigma_bar\n",
    "\n",
    "        return mu_bar, sigma_bar"
   ]
  },
  {
   "cell_type": "markdown",
   "metadata": {},
   "source": [
    "\n",
    "The KF predicts the next state based on the previous state and the motion the drone undertook since then.\n",
    "\n",
    "Based on the previous mean and covariance values of the altitude we can predict the new mean and covariance values and estimate the current state. "
   ]
  },
  {
   "cell_type": "code",
   "execution_count": null,
   "metadata": {
    "collapsed": true
   },
   "outputs": [],
   "source": [
    "z = 0.0                         # Initial position\n",
    "v = 1.0                         # Initial velocity\n",
    "dt = 1.0                        # The time difference between measures\n",
    "sensor_error = 0.1              # Sensor sigma\n",
    "velocity_sigma = 0.1            # Velocity uncertainty\n",
    "position_sigma = 0.1            # Position uncertainty\n",
    "\n",
    "\n",
    "mu_0 = np.array([[v],\n",
    "                 [z]]) \n",
    "\n",
    "sigma_0 = np.array([[velocity_sigma**2, 0.0],\n",
    "                    [0.0, position_sigma**2]])\n",
    "\n",
    "u = np.array([[0.0],\n",
    "              [0.0]])     # no control input is given \\ddot{z} = 0 "
   ]
  },
  {
   "cell_type": "markdown",
   "metadata": {},
   "source": [
    "The entire predict step is declaring the object, initializing and calling the prediction function.w"
   ]
  },
  {
   "cell_type": "code",
   "execution_count": null,
   "metadata": {
    "collapsed": true
   },
   "outputs": [],
   "source": [
    "# Initialize the object\n",
    "MYKF = KF(sensor_error, velocity_sigma, position_sigma, dt)\n",
    "\n",
    "# Input the initial values \n",
    "MYKF.initial_values(mu_0, sigma_0)\n",
    "\n",
    "# Call the predict function\n",
    "mu_bar, sigma_bar = MYKF.predict(u)\n",
    "\n",
    "print('mu_bar = \\n', mu_bar)\n",
    "print('sigma_bar = \\n', sigma_bar)"
   ]
  },
  {
   "cell_type": "markdown",
   "metadata": {},
   "source": [
    "Plotting the initial and predicted configuration spaces.\n"
   ]
  },
  {
   "cell_type": "code",
   "execution_count": null,
   "metadata": {
    "collapsed": true
   },
   "outputs": [],
   "source": [
    "state_space_display(z, v, mu_0, sigma_0, mu_bar, sigma_bar)"
   ]
  },
  {
   "cell_type": "markdown",
   "metadata": {},
   "source": [
    "### Update the measurement\n",
    "\n",
    "In this section, we will update the state vector mean position and the covariance based on the measurement that we perform after executing the move. \n",
    "\n",
    "$$\n",
    "h= \\begin{bmatrix} 0 & 1  \\end{bmatrix} \\times \\begin{bmatrix}\\dot{z} \\\\ z  \\end{bmatrix}\n",
    "$$\n",
    "\n",
    "Thus \n",
    "$$\n",
    "h' = \\begin{bmatrix} 0 & 1 \\end{bmatrix}\n",
    "$$"
   ]
  },
  {
   "cell_type": "code",
   "execution_count": null,
   "metadata": {
    "collapsed": true
   },
   "outputs": [],
   "source": [
    "%%add_to KF\n",
    "\n",
    "def h_prime(self):\n",
    "    return np.array([[0.0, 1.0]])\n",
    "    \n",
    "def h(self,mu):\n",
    "    return np.matmul(np.array([[0.0, 1.0]]), mu) \n",
    "\n",
    "def update(self, z):\n",
    "    \n",
    "    # TODO: Follow the update step outlined in theoretical part of the lesson and implement the next variables. \n",
    "    # H = None \n",
    "    # K = None\n",
    "    \n",
    "    # mu = None\n",
    "    # sigma = None\n",
    "    \n",
    "    self.mu = mu\n",
    "    self.sigma = sigma\n",
    "    \n",
    "    return mu, sigma\n",
    "    "
   ]
  },
  {
   "cell_type": "markdown",
   "metadata": {},
   "source": [
    "We'll introduce a single measurement close to the predicted position and update the drones estimated position."
   ]
  },
  {
   "cell_type": "code",
   "execution_count": null,
   "metadata": {
    "collapsed": true
   },
   "outputs": [],
   "source": [
    "measure = 1.01 # only measuring the Z coordinate\n",
    "\n",
    "mu_updated, sigma_updated = MYKF.update(measure)\n",
    "\n",
    "print('updated mean = \\n', mu_updated)\n",
    "print('updated sigma = \\n', sigma_updated)"
   ]
  },
  {
   "cell_type": "markdown",
   "metadata": {},
   "source": [
    "Plotting the state space after update step."
   ]
  },
  {
   "cell_type": "code",
   "execution_count": null,
   "metadata": {
    "collapsed": true
   },
   "outputs": [],
   "source": [
    "state_space_display_updated(z, v, mu_0, sigma_0, mu_bar, sigma_bar, mu_updated, sigma_updated)"
   ]
  },
  {
   "cell_type": "markdown",
   "metadata": {},
   "source": [
    "Please note that if you have peformed all operations correctly the updated state should be better defined than the initial state and the predicted state. (the circles should occupy the smaller area.)"
   ]
  },
  {
   "cell_type": "markdown",
   "metadata": {
    "collapsed": true
   },
   "source": [
    "### EKF + PID\n",
    "\n",
    "In this section, the drone is controlled using the altitude obtained by EKF filter instead of averaging as we did in the previous exercise."
   ]
  },
  {
   "cell_type": "code",
   "execution_count": null,
   "metadata": {
    "collapsed": true
   },
   "outputs": [],
   "source": [
    "from CoaxialDrone import CoaxialCopter\n",
    "from PIDcontroller import PIDController_with_ff\n",
    "from PathGeneration import flight_path"
   ]
  },
  {
   "cell_type": "markdown",
   "metadata": {},
   "source": [
    "First, we will generate the flight path which is constant height of 1m. "
   ]
  },
  {
   "cell_type": "code",
   "execution_count": null,
   "metadata": {
    "collapsed": true
   },
   "outputs": [],
   "source": [
    "total_time = 10.0  # Total flight time\n",
    "dt = 0.01          # Time intervale between measurements \n",
    "\n",
    "t, z_path, z_dot_path, z_dot_dot_path =  flight_path(total_time, dt,'constant' )"
   ]
  },
  {
   "cell_type": "markdown",
   "metadata": {},
   "source": [
    "###  IMU\n",
    "\n",
    "For this section, we will use a simple IMU which only adds noise to the actual altitude measurements."
   ]
  },
  {
   "cell_type": "code",
   "execution_count": null,
   "metadata": {
    "collapsed": true
   },
   "outputs": [],
   "source": [
    "class IMU:\n",
    "    def __init__(self):\n",
    "        pass\n",
    "        \n",
    "    def measure(self, z, sigma=0.001): \n",
    "        return z + np.random.normal(0.0, sigma)"
   ]
  },
  {
   "cell_type": "code",
   "execution_count": null,
   "metadata": {
    "collapsed": true
   },
   "outputs": [],
   "source": [
    "from DronewithPIDControllerKF import DronewithPIDKF"
   ]
  },
  {
   "cell_type": "code",
   "execution_count": null,
   "metadata": {
    "collapsed": true
   },
   "outputs": [],
   "source": [
    "sensor_error  = 0.1\n",
    "velocity_sigma = 0.1\n",
    "position_sigma = 0.1 \n",
    "MYKF = KF(sensor_error, velocity_sigma, position_sigma, dt)"
   ]
  },
  {
   "cell_type": "markdown",
   "metadata": {},
   "source": [
    "Let's compare the altitude of the drone when controller only relied on the direct measurements to the case when controller received the estimated altitude from the KF filter. "
   ]
  },
  {
   "cell_type": "code",
   "execution_count": null,
   "metadata": {
    "collapsed": true
   },
   "outputs": [],
   "source": [
    "# Initializing the drone with PID controller and providing information of the desired flight path. \n",
    "FlyingDrone = DronewithPIDKF(z_path, z_dot_path, z_dot_dot_path, t, dt, IMU, KF)"
   ]
  },
  {
   "cell_type": "code",
   "execution_count": null,
   "metadata": {
    "collapsed": true
   },
   "outputs": [],
   "source": [
    "interactive_plot = interactive(FlyingDrone.PID_controler_with_KF, \n",
    "                               position_sigma = (0.0, 0.1, 0.001),\n",
    "                               motion_sigma = (0.0, 0.1, 0.001))\n",
    "output = interactive_plot.children[-1]\n",
    "output.layout.height = '800px'\n",
    "interactive_plot"
   ]
  },
  {
   "cell_type": "markdown",
   "metadata": {},
   "source": [
    "This section will allow you to test the different PID controller parameters and compare flight path when using the direct measurement and the KF estimated value to control the drone. "
   ]
  },
  {
   "cell_type": "code",
   "execution_count": null,
   "metadata": {
    "collapsed": true
   },
   "outputs": [],
   "source": [
    "from DronewithPIDControllerKF import DronewithPIDKFKnobs"
   ]
  },
  {
   "cell_type": "code",
   "execution_count": null,
   "metadata": {
    "collapsed": true
   },
   "outputs": [],
   "source": [
    "FlyingDroneKnobs = DronewithPIDKFKnobs(z_path, z_dot_path, z_dot_dot_path, t, dt, IMU, KF)"
   ]
  },
  {
   "cell_type": "code",
   "execution_count": null,
   "metadata": {
    "collapsed": true
   },
   "outputs": [],
   "source": [
    "interactive_plot = interactive(FlyingDroneKnobs.PID_controler_with_KF_knobs,\n",
    "                               k_p=(5.0, 35.0, 1),\n",
    "                               k_d=(0.0, 10, 0.5), \n",
    "                               k_i=(0.0, 10, 0.5), \n",
    "                               mass_err =(0.7, 1.31, 0.01),\n",
    "                               sigma = (0.0, 0.1, 0.001),\n",
    "                               position_sigma = (0.0, 0.1, 0.001),\n",
    "                               motion_sigma = (0.0, 0.1, 0.001))\n",
    "\n",
    "output = interactive_plot.children[-1]\n",
    "output.layout.height = '800px'\n",
    "interactive_plot"
   ]
  },
  {
   "cell_type": "code",
   "execution_count": null,
   "metadata": {
    "collapsed": true
   },
   "outputs": [],
   "source": []
  },
  {
   "cell_type": "code",
   "execution_count": null,
   "metadata": {
    "collapsed": true
   },
   "outputs": [],
   "source": []
  }
 ],
 "metadata": {
  "kernelspec": {
   "display_name": "Python 3",
   "language": "python",
   "name": "python3"
  },
  "language_info": {
   "codemirror_mode": {
    "name": "ipython",
    "version": 3
   },
   "file_extension": ".py",
   "mimetype": "text/x-python",
   "name": "python",
   "nbconvert_exporter": "python",
   "pygments_lexer": "ipython3",
   "version": "3.6.3"
  }
 },
 "nbformat": 4,
 "nbformat_minor": 2
}
