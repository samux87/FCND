{
 "cells": [
  {
   "cell_type": "markdown",
   "metadata": {},
   "source": [
    "In the previous notebook you simulated the Dubin's Car model by choosing random steering angles. Typically there is a target location the vehicle is progressing to, thus choosing control inputs that which move closer to the target would be ideal.\n"
   ]
  },
  {
   "cell_type": "code",
   "execution_count": 2,
   "metadata": {},
   "outputs": [],
   "source": [
    "import numpy as np\n",
    "import matplotlib.pyplot as plt\n",
    "\n",
    "%matplotlib inline"
   ]
  },
  {
   "cell_type": "code",
   "execution_count": 3,
   "metadata": {},
   "outputs": [],
   "source": [
    "plt.rcParams['figure.figsize'] = 12, 12"
   ]
  },
  {
   "cell_type": "markdown",
   "metadata": {},
   "source": [
    "Dubin's car simulation from the previous notebook."
   ]
  },
  {
   "cell_type": "code",
   "execution_count": 4,
   "metadata": {},
   "outputs": [],
   "source": [
    "def simulate(state, angle, v, dt):\n",
    "    x = state[0]\n",
    "    y = state[1]\n",
    "    theta = state[2]    \n",
    "    \n",
    "    nx = x + v*np.cos(theta)*dt\n",
    "    ny = y + v*np.sin(theta)*dt\n",
    "    ntheta = theta + v*np.tan(angle)*dt\n",
    "    \n",
    "    return [nx, ny, ntheta]"
   ]
  },
  {
   "cell_type": "markdown",
   "metadata": {},
   "source": [
    "Implement the `steer` function which returns controls inputs that progress `x1` to `x2`. You should return the steering angle and velocity. Remember constraints!"
   ]
  },
  {
   "cell_type": "code",
   "execution_count": 5,
   "metadata": {},
   "outputs": [],
   "source": [
    "# limit the steering angle range\n",
    "MAX_STEERING_ANGLE = np.deg2rad(30)\n",
    "# km/h\n",
    "MAX_VELOCITY = 1\n",
    "\n",
    "def steer(x1, x2):\n",
    "    theta = x1[2]\n",
    "    \n",
    "    # assumes theta is 0\n",
    "    angle = np.arctan2(x2[1] - x1[1], x2[0] - x1[0]) - theta\n",
    "    angle = np.clip(angle, -MAX_STEERING_ANGLE, MAX_STEERING_ANGLE)\n",
    "    \n",
    "    v = np.linalg.norm(np.array(x1[:2]) - np.array(x2[:2]))\n",
    "    v = np.clip(v, 0, MAX_VELOCITY)\n",
    "                \n",
    "    return [angle, v]"
   ]
  },
  {
   "cell_type": "markdown",
   "metadata": {},
   "source": [
    "Initially, we place the car at the center of the coordinate system (0, 0) and give heading of $0$ which is facing in the positive direction along the $x$ axis."
   ]
  },
  {
   "cell_type": "code",
   "execution_count": 6,
   "metadata": {},
   "outputs": [],
   "source": [
    "# feel free to play around with these\n",
    "dt = 0.1\n",
    "total_time = 10\n",
    "\n",
    "# initial state\n",
    "start = [0, 0, 0]\n",
    "\n",
    "# the goal location, feel free to change this ...\n",
    "goal = [10, -15, 0]\n",
    "states = [start]\n",
    "\n",
    "for _ in np.arange(0, total_time, dt):\n",
    "    current_state = states[-1]\n",
    "    angle, velocity = steer(current_state, goal)\n",
    "    state = simulate(current_state, angle, velocity, dt)\n",
    "    states.append(state)\n",
    "\n",
    "states = np.array(states)"
   ]
  },
  {
   "cell_type": "markdown",
   "metadata": {},
   "source": [
    "Now let's visualize the path! It should be a smooth path from the start location to the goal location."
   ]
  },
  {
   "cell_type": "code",
   "execution_count": 7,
   "metadata": {},
   "outputs": [
    {
     "data": {
      "image/png": "[encoded data removed]",
      "text/plain": [
       "<matplotlib.figure.Figure at 0x7f5c819e8438>"
      ]
     },
     "metadata": {},
     "output_type": "display_data"
    }
   ],
   "source": [
    "plt.plot(states[:, 0], states[:, 1], color='blue')\n",
    "plt.axis('equal')\n",
    "plt.xlabel('X')\n",
    "plt.ylabel('Y')\n",
    "plt.show()"
   ]
  },
  {
   "cell_type": "code",
   "execution_count": null,
   "metadata": {},
   "outputs": [],
   "source": []
  },
  {
   "cell_type": "code",
   "execution_count": null,
   "metadata": {},
   "outputs": [],
   "source": []
  }
 ],
 "metadata": {
  "kernelspec": {
   "display_name": "Python 3",
   "language": "python",
   "name": "python3"
  },
  "language_info": {
   "codemirror_mode": {
    "name": "ipython",
    "version": 3
   },
   "file_extension": ".py",
   "mimetype": "text/x-python",
   "name": "python",
   "nbconvert_exporter": "python",
   "pygments_lexer": "ipython3",
   "version": "3.6.3"
  }
 },
 "nbformat": 4,
 "nbformat_minor": 2
}
