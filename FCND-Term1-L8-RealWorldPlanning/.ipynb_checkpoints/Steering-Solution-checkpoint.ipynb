{
 "cells": [
  {
   "cell_type": "markdown",
   "metadata": {},
   "source": [
    "In the previous notebook you simulated the Dubin's Car model by choosing random steering angles. Typically there is a target location the vehicle is progressing to, thus choosing control inputs that which move closer to the target would be ideal.\n"
   ]
  },
  {
   "cell_type": "code",
   "execution_count": 1,
   "metadata": {},
   "outputs": [],
   "source": [
    "import numpy as np\n",
    "import matplotlib.pyplot as plt\n",
    "\n",
    "%matplotlib inline"
   ]
  },
  {
   "cell_type": "code",
   "execution_count": 2,
   "metadata": {},
   "outputs": [],
   "source": [
    "# plt.rcParams['figure.figsize'] = 12, 12"
   ]
  },
  {
   "cell_type": "markdown",
   "metadata": {},
   "source": [
    "Dubin's car simulation from the previous notebook."
   ]
  },
  {
   "cell_type": "code",
   "execution_count": 3,
   "metadata": {},
   "outputs": [],
   "source": [
    "def simulate(state, angle, v, dt):\n",
    "    x = state[0]\n",
    "    y = state[1]\n",
    "    theta = state[2]    \n",
    "    \n",
    "    nx = x + v*np.cos(theta)*dt\n",
    "    ny = y + v*np.sin(theta)*dt\n",
    "    ntheta = theta + np.tan(angle)*dt\n",
    "    \n",
    "    return [nx, ny, ntheta, v, angle]"
   ]
  },
  {
   "cell_type": "markdown",
   "metadata": {},
   "source": [
    "Implement the `steer` function which returns controls inputs that progress `x1` to `x2`. You should return the steering angle and velocity. Remember constraints!"
   ]
  },
  {
   "cell_type": "code",
   "execution_count": 4,
   "metadata": {},
   "outputs": [],
   "source": [
    "# limit the steering angle range\n",
    "MAX_STEERING_ANGLE = np.deg2rad(30)\n",
    "# km/h\n",
    "MAX_VELOCITY = 1\n",
    "\n",
    "def steer(x1, x2, x0):\n",
    "    theta = x1[2]\n",
    "    \n",
    "    # assumes theta is 0\n",
    "    angle = np.arctan((np.arctan2(x2[1] - x1[1], x2[0] - x1[0]) - theta))\n",
    "    angle = np.clip(angle, -MAX_STEERING_ANGLE, MAX_STEERING_ANGLE)\n",
    "    \n",
    "    dist_to_goal = np.linalg.norm(np.array(x1[:2]) - np.array(x2[:2]))\n",
    "    dist_to_start = np.linalg.norm(np.array(x1[:2]) - np.array(x0[:2]))\n",
    "    v = MAX_VELOCITY * dist_to_goal / dist_to_start\n",
    "    v = np.clip(v, 0, MAX_VELOCITY)\n",
    "                \n",
    "    return [angle, v]"
   ]
  },
  {
   "cell_type": "markdown",
   "metadata": {},
   "source": [
    "Initially, we place the car at the center of the coordinate system (0, 0) and give heading of $0$ which is facing in the positive direction along the $x$ axis."
   ]
  },
  {
   "cell_type": "code",
   "execution_count": 14,
   "metadata": {},
   "outputs": [
    {
     "name": "stderr",
     "output_type": "stream",
     "text": [
      "/Users/qiu/miniconda3/envs/fcnd/lib/python3.6/site-packages/ipykernel_launcher.py:15: RuntimeWarning: divide by zero encountered in double_scalars\n",
      "  from ipykernel import kernelapp as app\n"
     ]
    }
   ],
   "source": [
    "# feel free to play around with these\n",
    "dt = 1\n",
    "total_time = 20\n",
    "\n",
    "# initial state\n",
    "start = [0, 0, 0, 0, 0]\n",
    "\n",
    "# the goal location, feel free to change this ...\n",
    "goal = [10, -15, 0, 0, 0]\n",
    "states = [start]\n",
    "\n",
    "for i in np.arange(0, total_time, dt):\n",
    "    current_state = states[-1]\n",
    "    angle, velocity = steer(current_state, goal, start)\n",
    "    state = simulate(current_state, angle, velocity, dt)\n",
    "    states.append(state)\n",
    "\n",
    "states = np.array(states)"
   ]
  },
  {
   "cell_type": "code",
   "execution_count": 15,
   "metadata": {},
   "outputs": [
    {
     "data": {
      "text/plain": [
       "array([[  0.        ,   0.        ,   0.        ],\n",
       "       [  1.        ,   0.        ,  -0.57735027],\n",
       "       [  1.83791183,  -0.54580561,  -1.03037683],\n",
       "       [  2.35240758,  -1.40329854,  -1.05674747],\n",
       "       [  2.84411444,  -2.27405934,  -1.05843772],\n",
       "       [  3.33434879,  -3.14565   ,  -1.05855349],\n",
       "       [  3.82448223,  -4.01729741,  -1.058562  ],\n",
       "       [  4.31460825,  -4.88894899,  -1.05856268],\n",
       "       [  4.80473369,  -5.76060091,  -1.05856273],\n",
       "       [  5.29485907,  -6.63225285,  -1.05856274],\n",
       "       [  5.78498445,  -7.50390479,  -1.05856274],\n",
       "       [  6.22984343,  -8.29505378,  -1.05856274],\n",
       "       [  6.59326875,  -8.94137899,  -1.05856274],\n",
       "       [  6.89992094,  -9.48673735,  -1.05856274],\n",
       "       [  7.16419367,  -9.95672698,  -1.05856274],\n",
       "       [  7.39538047, -10.3678757 ,  -1.05856274],\n",
       "       [  7.59990228, -10.73160269,  -1.05856274],\n",
       "       [  7.78241747, -11.05619254,  -1.05856274],\n",
       "       [  7.94643311, -11.34788229,  -1.05856274],\n",
       "       [  8.09466733, -11.61150595,  -1.05856274],\n",
       "       [  8.22927673, -11.85089886,  -1.05856274]])"
      ]
     },
     "execution_count": 15,
     "metadata": {},
     "output_type": "execute_result"
    }
   ],
   "source": [
    "states[:,:]"
   ]
  },
  {
   "cell_type": "markdown",
   "metadata": {},
   "source": [
    "Now let's visualize the path! It should be a smooth path from the start location to the goal location."
   ]
  },
  {
   "cell_type": "code",
   "execution_count": 16,
   "metadata": {},
   "outputs": [
    {
     "data": {
      "image/png": "[encoded data removed]",
      "text/plain": [
       "<matplotlib.figure.Figure at 0x11777e2b0>"
      ]
     },
     "metadata": {},
     "output_type": "display_data"
    }
   ],
   "source": [
    "plt.scatter(states[:, 0], states[:, 1], color='blue')\n",
    "plt.axis('equal')\n",
    "plt.xlabel('X')\n",
    "plt.ylabel('Y')\n",
    "plt.show()"
   ]
  },
  {
   "cell_type": "code",
   "execution_count": null,
   "metadata": {},
   "outputs": [],
   "source": []
  },
  {
   "cell_type": "code",
   "execution_count": null,
   "metadata": {},
   "outputs": [],
   "source": []
  }
 ],
 "metadata": {
  "kernelspec": {
   "display_name": "Python 3",
   "language": "python",
   "name": "python3"
  },
  "language_info": {
   "codemirror_mode": {
    "name": "ipython",
    "version": 3
   },
   "file_extension": ".py",
   "mimetype": "text/x-python",
   "name": "python",
   "nbconvert_exporter": "python",
   "pygments_lexer": "ipython3",
   "version": "3.6.3"
  }
 },
 "nbformat": 4,
 "nbformat_minor": 2
}
