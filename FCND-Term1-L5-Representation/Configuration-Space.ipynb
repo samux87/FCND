{
 "cells": [
  {
   "cell_type": "markdown",
   "metadata": {},
   "source": [
    "## Confguration Space\n",
    "\n",
    "In this notebook you'll create a configuration space given a map of the world and setting a particular altitude for your drone. You'll read in a `.csv` file containing obstacle data which consists of six columns $x$, $y$, $z$ and $\\delta x$, $\\delta y$, $\\delta z$.\n",
    "\n",
    "You can look at the `.csv` file [here](/edit/colliders.csv). The first line gives the map center coordinates and the file is arranged such that:\n",
    "\n",
    "* $x$ -> NORTH\n",
    "* $y$ -> EAST\n",
    "* $z$ -> ALTITUDE (positive up, note the difference with NED coords)\n",
    "\n",
    "Each $(x, y, z)$ coordinate is the center of an obstacle. $\\delta x$, $\\delta y$, $\\delta z$ are the half widths of the obstacles, meaning for example that an obstacle with $(x = 37, y = 12, z = 8)$ and $(\\delta x = 5, \\delta y = 5, \\delta z = 8)$ is a 10 x 10 m obstacle that is 16 m high and is centered at the point $(x, y) = (37, 12)$ at a height of 8 m.\n",
    "\n",
    "Given a map like this, the free space in the $(x, y)$ plane is a function of altitude, and you can plan a path around an obstacle, or simply fly over it! You'll extend each obstacle by a safety margin to create the equivalent of a 3 dimensional configuration space. \n",
    "\n",
    "Your task is to extract a 2D grid map at 1 metre resolution of your configuration space for a particular altitude, where each value is assigned either a 0 or 1 representing feasible or infeasible (obstacle) spaces respectively."
   ]
  },
  {
   "cell_type": "markdown",
   "metadata": {},
   "source": [
    "The end result should look something like this ... (colours aren't important)\n",
    "\n",
    "![title](grid_map.png)"
   ]
  },
  {
   "cell_type": "code",
   "execution_count": 1,
   "metadata": {},
   "outputs": [],
   "source": [
    "import numpy as np \n",
    "import matplotlib.pyplot as plt\n",
    "\n",
    "%matplotlib inline"
   ]
  },
  {
   "cell_type": "code",
   "execution_count": 2,
   "metadata": {},
   "outputs": [],
   "source": [
    "plt.rcParams[\"figure.figsize\"] = [12, 12]"
   ]
  },
  {
   "cell_type": "markdown",
   "metadata": {},
   "source": [
    "Read the csv file which contains the coordinates of the obstacles. "
   ]
  },
  {
   "cell_type": "code",
   "execution_count": 3,
   "metadata": {},
   "outputs": [
    {
     "name": "stdout",
     "output_type": "stream",
     "text": [
      "[[-305.  -435.    85.5    5.     5.    85.5]\n",
      " [-295.  -435.    85.5    5.     5.    85.5]\n",
      " [-285.  -435.    85.5    5.     5.    85.5]\n",
      " ...\n",
      " [ 435.   465.     8.     5.     5.     8. ]\n",
      " [ 445.   465.     8.     5.     5.     8. ]\n",
      " [ 455.   465.     8.     5.     5.     8. ]]\n"
     ]
    }
   ],
   "source": [
    "filename = 'colliders.csv'\n",
    "# Read in the data skipping the first two lines.  \n",
    "# Note: the first line contains the latitude and longitude of map center\n",
    "# Where is this??\n",
    "data = np.loadtxt(filename,delimiter=',',dtype='Float64',skiprows=2)\n",
    "print(data)"
   ]
  },
  {
   "cell_type": "code",
   "execution_count": 4,
   "metadata": {},
   "outputs": [],
   "source": [
    "# Static drone altitude (metres)\n",
    "drone_altitude = 5\n",
    "\n",
    "# Minimum distance required to stay away from an obstacle (metres)\n",
    "# Think of this as padding around the obstacles.\n",
    "safe_distance = 3"
   ]
  },
  {
   "cell_type": "markdown",
   "metadata": {},
   "source": [
    "The given function will take the data from the file describing the obstacles city and will return a 2D grid representation showing open and closed spaces."
   ]
  },
  {
   "cell_type": "code",
   "execution_count": 5,
   "metadata": {},
   "outputs": [],
   "source": [
    "def create_grid(data, drone_altitude, safety_distance):\n",
    "    \"\"\"\n",
    "    Returns a grid representation of a 2D configuration space\n",
    "    based on given obstacle data, drone altitude and safety distance\n",
    "    arguments.\n",
    "    \"\"\"\n",
    "\n",
    "    # minimum and maximum north coordinates\n",
    "    north_min = np.floor(np.amin(data[:, 0] - data[:, 3]))\n",
    "    north_max = np.ceil(np.amax(data[:, 0] + data[:, 3]))\n",
    "\n",
    "    # minimum and maximum east coordinates\n",
    "    east_min = np.floor(np.amin(data[:, 1] - data[:, 4]))\n",
    "    east_max = np.ceil(np.amax(data[:, 1] + data[:, 4]))\n",
    "\n",
    "    # given the minimum and maximum coordinates we can\n",
    "    # calculate the size of the grid.\n",
    "    north_size = int(np.ceil((north_max - north_min)))\n",
    "    east_size = int(np.ceil((east_max - east_min)))\n",
    "\n",
    "    grid = np.zeros((north_size, east_size))\n",
    "\n",
    "    for i in range(data.shape[0]):\n",
    "        north, east, alt, d_north, d_east, d_alt = data[i, :]\n",
    "\n",
    "        # TODO: Determine which cells contain obstacles\n",
    "        # and set them to 1.\n",
    "        #\n",
    "        # Example:\n",
    "        #\n",
    "        alt_min = alt - d_alt - safety_distance\n",
    "        alt_max = alt + d_alt + safety_distance\n",
    "        if (alt_min < drone_altitude) and (drone_altitude < alt_max):\n",
    "            for north_coordinate in range(np.min(0, np.floor(north - d_north - safety_distance)), \n",
    "                                          np.ceil(north + d_north + safety_distance)):\n",
    "                for east_coordinate in range(np.min(0, np.floor(east - d_east - safety_distance)), \n",
    "                                          np.ceil(east + d_east + safety_distance)):\n",
    "                    grid[north_coordinate, east_coordinate] = 1\n",
    "\n",
    "    return grid"
   ]
  },
  {
   "cell_type": "code",
   "execution_count": 6,
   "metadata": {},
   "outputs": [
    {
     "ename": "TypeError",
     "evalue": "'numpy.float64' object cannot be interpreted as an integer",
     "output_type": "error",
     "traceback": [
      "\u001b[0;31m---------------------------------------------------------------------------\u001b[0m",
      "\u001b[0;31mTypeError\u001b[0m                                 Traceback (most recent call last)",
      "\u001b[0;32m<ipython-input-6-5edea71ab05d>\u001b[0m in \u001b[0;36m<module>\u001b[0;34m()\u001b[0m\n\u001b[0;32m----> 1\u001b[0;31m \u001b[0mgrid\u001b[0m \u001b[0;34m=\u001b[0m \u001b[0mcreate_grid\u001b[0m\u001b[0;34m(\u001b[0m\u001b[0mdata\u001b[0m\u001b[0;34m,\u001b[0m \u001b[0mdrone_altitude\u001b[0m\u001b[0;34m,\u001b[0m \u001b[0msafe_distance\u001b[0m\u001b[0;34m)\u001b[0m\u001b[0;34m\u001b[0m\u001b[0m\n\u001b[0m",
      "\u001b[0;32m<ipython-input-5-c3a244836d03>\u001b[0m in \u001b[0;36mcreate_grid\u001b[0;34m(data, drone_altitude, safety_distance)\u001b[0m\n\u001b[1;32m     32\u001b[0m         \u001b[0malt_max\u001b[0m \u001b[0;34m=\u001b[0m \u001b[0malt\u001b[0m \u001b[0;34m+\u001b[0m \u001b[0md_alt\u001b[0m \u001b[0;34m+\u001b[0m \u001b[0msafety_distance\u001b[0m\u001b[0;34m\u001b[0m\u001b[0m\n\u001b[1;32m     33\u001b[0m         \u001b[0;32mif\u001b[0m \u001b[0;34m(\u001b[0m\u001b[0malt_min\u001b[0m \u001b[0;34m<\u001b[0m \u001b[0mdrone_altitude\u001b[0m\u001b[0;34m)\u001b[0m  \u001b[0;32mand\u001b[0m \u001b[0;34m(\u001b[0m\u001b[0mdrone_altitude\u001b[0m \u001b[0;34m<\u001b[0m \u001b[0malt_max\u001b[0m\u001b[0;34m)\u001b[0m\u001b[0;34m:\u001b[0m\u001b[0;34m\u001b[0m\u001b[0m\n\u001b[0;32m---> 34\u001b[0;31m             for north_coordinate in range(np.min(0, np.floor(north - d_north - safety_distance)), \n\u001b[0m\u001b[1;32m     35\u001b[0m                                           np.ceil(north + d_north + safety_distance)):\n\u001b[1;32m     36\u001b[0m                 for east_coordinate in range(np.min(0, np.floor(east - d_east - safety_distance)), \n",
      "\u001b[0;32m~/miniconda3/envs/fcnd/lib/python3.6/site-packages/numpy/core/fromnumeric.py\u001b[0m in \u001b[0;36mamin\u001b[0;34m(a, axis, out, keepdims)\u001b[0m\n\u001b[1;32m   2418\u001b[0m \u001b[0;34m\u001b[0m\u001b[0m\n\u001b[1;32m   2419\u001b[0m     return _methods._amin(a, axis=axis,\n\u001b[0;32m-> 2420\u001b[0;31m                           out=out, **kwargs)\n\u001b[0m\u001b[1;32m   2421\u001b[0m \u001b[0;34m\u001b[0m\u001b[0m\n\u001b[1;32m   2422\u001b[0m \u001b[0;34m\u001b[0m\u001b[0m\n",
      "\u001b[0;32m~/miniconda3/envs/fcnd/lib/python3.6/site-packages/numpy/core/_methods.py\u001b[0m in \u001b[0;36m_amin\u001b[0;34m(a, axis, out, keepdims)\u001b[0m\n\u001b[1;32m     27\u001b[0m \u001b[0;34m\u001b[0m\u001b[0m\n\u001b[1;32m     28\u001b[0m \u001b[0;32mdef\u001b[0m \u001b[0m_amin\u001b[0m\u001b[0;34m(\u001b[0m\u001b[0ma\u001b[0m\u001b[0;34m,\u001b[0m \u001b[0maxis\u001b[0m\u001b[0;34m=\u001b[0m\u001b[0;32mNone\u001b[0m\u001b[0;34m,\u001b[0m \u001b[0mout\u001b[0m\u001b[0;34m=\u001b[0m\u001b[0;32mNone\u001b[0m\u001b[0;34m,\u001b[0m \u001b[0mkeepdims\u001b[0m\u001b[0;34m=\u001b[0m\u001b[0;32mFalse\u001b[0m\u001b[0;34m)\u001b[0m\u001b[0;34m:\u001b[0m\u001b[0;34m\u001b[0m\u001b[0m\n\u001b[0;32m---> 29\u001b[0;31m     \u001b[0;32mreturn\u001b[0m \u001b[0mumr_minimum\u001b[0m\u001b[0;34m(\u001b[0m\u001b[0ma\u001b[0m\u001b[0;34m,\u001b[0m \u001b[0maxis\u001b[0m\u001b[0;34m,\u001b[0m \u001b[0;32mNone\u001b[0m\u001b[0;34m,\u001b[0m \u001b[0mout\u001b[0m\u001b[0;34m,\u001b[0m \u001b[0mkeepdims\u001b[0m\u001b[0;34m)\u001b[0m\u001b[0;34m\u001b[0m\u001b[0m\n\u001b[0m\u001b[1;32m     30\u001b[0m \u001b[0;34m\u001b[0m\u001b[0m\n\u001b[1;32m     31\u001b[0m \u001b[0;32mdef\u001b[0m \u001b[0m_sum\u001b[0m\u001b[0;34m(\u001b[0m\u001b[0ma\u001b[0m\u001b[0;34m,\u001b[0m \u001b[0maxis\u001b[0m\u001b[0;34m=\u001b[0m\u001b[0;32mNone\u001b[0m\u001b[0;34m,\u001b[0m \u001b[0mdtype\u001b[0m\u001b[0;34m=\u001b[0m\u001b[0;32mNone\u001b[0m\u001b[0;34m,\u001b[0m \u001b[0mout\u001b[0m\u001b[0;34m=\u001b[0m\u001b[0;32mNone\u001b[0m\u001b[0;34m,\u001b[0m \u001b[0mkeepdims\u001b[0m\u001b[0;34m=\u001b[0m\u001b[0;32mFalse\u001b[0m\u001b[0;34m)\u001b[0m\u001b[0;34m:\u001b[0m\u001b[0;34m\u001b[0m\u001b[0m\n",
      "\u001b[0;31mTypeError\u001b[0m: 'numpy.float64' object cannot be interpreted as an integer"
     ]
    }
   ],
   "source": [
    "grid = create_grid(data, drone_altitude, safe_distance)"
   ]
  },
  {
   "cell_type": "code",
   "execution_count": null,
   "metadata": {},
   "outputs": [],
   "source": [
    "# equivalent to\n",
    "# plt.imshow(np.flip(grid, 0))\n",
    "# NOTE: we're placing the origin in the lower lefthand corner here\n",
    "# so that north is up, if you didn't do this north would be positive down\n",
    "plt.imshow(grid, origin='lower') \n",
    "\n",
    "plt.xlabel('EAST')\n",
    "plt.ylabel('NORTH')\n",
    "plt.show()"
   ]
  },
  {
   "cell_type": "markdown",
   "metadata": {},
   "source": [
    "Play around with the `drone_altitude` and `safe_distance` values to get a feel for how it changes the map."
   ]
  },
  {
   "cell_type": "markdown",
   "metadata": {},
   "source": [
    "[solution](/notebooks/Configuration-Space-Solution.ipynb)"
   ]
  },
  {
   "cell_type": "code",
   "execution_count": null,
   "metadata": {},
   "outputs": [],
   "source": []
  }
 ],
 "metadata": {
  "kernelspec": {
   "display_name": "Python 3",
   "language": "python",
   "name": "python3"
  },
  "language_info": {
   "codemirror_mode": {
    "name": "ipython",
    "version": 3
   },
   "file_extension": ".py",
   "mimetype": "text/x-python",
   "name": "python",
   "nbconvert_exporter": "python",
   "pygments_lexer": "ipython3",
   "version": "3.6.0"
  }
 },
 "nbformat": 4,
 "nbformat_minor": 2
}
