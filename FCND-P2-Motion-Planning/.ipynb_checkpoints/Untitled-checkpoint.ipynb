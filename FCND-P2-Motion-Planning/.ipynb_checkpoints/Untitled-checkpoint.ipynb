{
 "cells": [
  {
   "cell_type": "code",
   "execution_count": 1,
   "metadata": {},
   "outputs": [],
   "source": [
    "import numpy as np"
   ]
  },
  {
   "cell_type": "code",
   "execution_count": 27,
   "metadata": {},
   "outputs": [],
   "source": [
    "path = [[0, 0, 5, 0], [98, -17, 5, 0], [129, -64, 5, 0], [122, -146, 5, 0], [264, -174, 5, 0], [244, -254, 5, 0], [254, -307, 5, 0], [309, -315, 5, 0], [314, -304, 5, 0], [322, -300, 5, 0]]"
   ]
  },
  {
   "cell_type": "code",
   "execution_count": 42,
   "metadata": {},
   "outputs": [
    {
     "data": {
      "text/plain": [
       "array([ 0.        ,  6.51068302, 10.19614707, 15.58322285, 25.05723266,\n",
       "       30.45503533, 33.98552064, 37.62359441, 38.4145261 , 39.        ])"
      ]
     },
     "execution_count": 42,
     "metadata": {},
     "output_type": "execute_result"
    }
   ],
   "source": [
    "path = np.array([path[0]] + path)\n",
    "dist = np.linalg.norm(path[1:,:]  - path[:-1,:], axis = 1)\n",
    "goal_alt = 34\n",
    "np.cumsum(dist/sum(dist)) * (goal_alt + 5)"
   ]
  },
  {
   "cell_type": "code",
   "execution_count": 34,
   "metadata": {},
   "outputs": [
    {
     "data": {
      "text/plain": [
       "array([[  0,   0,   0,   0],\n",
       "       [ 98, -17,   0,   0],\n",
       "       [ 31, -47,   0,   0],\n",
       "       [ -7, -82,   0,   0],\n",
       "       [142, -28,   0,   0],\n",
       "       [-20, -80,   0,   0],\n",
       "       [ 10, -53,   0,   0],\n",
       "       [ 55,  -8,   0,   0],\n",
       "       [  5,  11,   0,   0],\n",
       "       [  8,   4,   0,   0]])"
      ]
     },
     "execution_count": 34,
     "metadata": {},
     "output_type": "execute_result"
    }
   ],
   "source": [
    "diff = path[1:,:]  - path[:-1,:]\n",
    "diff"
   ]
  },
  {
   "cell_type": "code",
   "execution_count": null,
   "metadata": {},
   "outputs": [],
   "source": []
  },
  {
   "cell_type": "code",
   "execution_count": 37,
   "metadata": {},
   "outputs": [
    {
     "data": {
      "text/plain": [
       "array([  0.        ,  99.46356117,  56.30275304,  82.29823813,\n",
       "       144.73423921,  82.46211251,  53.93514624,  55.57877293,\n",
       "        12.08304597,   8.94427191])"
      ]
     },
     "execution_count": 37,
     "metadata": {},
     "output_type": "execute_result"
    }
   ],
   "source": [
    "dist"
   ]
  },
  {
   "cell_type": "code",
   "execution_count": null,
   "metadata": {},
   "outputs": [],
   "source": []
  },
  {
   "cell_type": "code",
   "execution_count": 39,
   "metadata": {},
   "outputs": [
    {
     "data": {
      "text/plain": [
       "array([0.        , 0.16694059, 0.09449908, 0.13813015, 0.24292333,\n",
       "       0.1384052 , 0.09052526, 0.09328394, 0.0202803 , 0.01501215])"
      ]
     },
     "execution_count": 39,
     "metadata": {},
     "output_type": "execute_result"
    }
   ],
   "source": [
    "dist/sum(dist)"
   ]
  },
  {
   "cell_type": "code",
   "execution_count": 40,
   "metadata": {},
   "outputs": [
    {
     "data": {
      "text/plain": [
       "array([0.        , 0.16694059, 0.26143967, 0.39956982, 0.64249315,\n",
       "       0.78089834, 0.87142361, 0.96470755, 0.98498785, 1.        ])"
      ]
     },
     "execution_count": 40,
     "metadata": {},
     "output_type": "execute_result"
    }
   ],
   "source": [
    "np.cumsum(dist/sum(dist))"
   ]
  },
  {
   "cell_type": "code",
   "execution_count": 41,
   "metadata": {},
   "outputs": [
    {
     "data": {
      "text/plain": [
       "array([ 0.        ,  6.51068302, 10.19614707, 15.58322285, 25.05723266,\n",
       "       30.45503533, 33.98552064, 37.62359441, 38.4145261 , 39.        ])"
      ]
     },
     "execution_count": 41,
     "metadata": {},
     "output_type": "execute_result"
    }
   ],
   "source": []
  },
  {
   "cell_type": "code",
   "execution_count": null,
   "metadata": {},
   "outputs": [],
   "source": [
    "waypoints = [[p[0] + north_offset, p[1] + east_offset, TARGET_ALTITUDE, 0] for p in path] \n",
    "\n",
    "# Define two waypoints with heading = 0 for both\n",
    "wp1 = [n1, e1, a1, 0]\n",
    "wp2 = [n2, e2, a2, 0]\n",
    "# Set heading of wp2 based on relative position to wp1\n",
    "wp2[3] = np.arctan2((wp2[1]-wp1[1]), (wp2[0]-wp1[0]))"
   ]
  }
 ],
 "metadata": {
  "kernelspec": {
   "display_name": "Python 3",
   "language": "python",
   "name": "python3"
  },
  "language_info": {
   "codemirror_mode": {
    "name": "ipython",
    "version": 3
   },
   "file_extension": ".py",
   "mimetype": "text/x-python",
   "name": "python",
   "nbconvert_exporter": "python",
   "pygments_lexer": "ipython3",
   "version": "3.6.3"
  }
 },
 "nbformat": 4,
 "nbformat_minor": 2
}
