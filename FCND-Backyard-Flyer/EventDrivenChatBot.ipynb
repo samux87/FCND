{
 "cells": [
  {
   "cell_type": "code",
   "execution_count": 2,
   "metadata": {},
   "outputs": [
    {
     "name": "stdout",
     "output_type": "stream",
     "text": [
      "Hello!\n",
      "sorry, I don't understand how are you doing?\n",
      "I am 2 seconds old.\n",
      "Technically, I'm 2 seconds and 202816 microseconds old\n",
      "Nice chatting with you!\n",
      "Technically, I'm 2 seconds and 203116 microseconds old\n"
     ]
    }
   ],
   "source": [
    "from datetime import datetime\n",
    "import time\n",
    "\n",
    "class EventDrivenChatBot:\n",
    "    \n",
    "    def __init__(self):\n",
    "        # accepted_messages maps incoming messages to \n",
    "        # list of callback functions\n",
    "        self.accepted_messages = {}\n",
    "        \n",
    "        # time of instantiation\n",
    "        self.birth_time = datetime.now()\n",
    "        \n",
    "        # \"registering\" all callbacks\n",
    "        self.register_callback(\"hi\", \n",
    "                               self.respond_to_greeting)\n",
    "        self.register_callback(\"bye\", \n",
    "                               self.respond_to_departure)\n",
    "        self.register_callback(\"age?\",\n",
    "                               self.respond_to_age_request)\n",
    "        self.register_callback(\"age?\",\n",
    "                               self.respond_to_age_request_detailed)\n",
    "    \n",
    "    def register_callback(self, message, callback):\n",
    "        \"\"\"\n",
    "        Registers a callback to a message.\n",
    "        \"\"\"\n",
    "        if message not in self.accepted_messages:\n",
    "            self.accepted_messages[message] = []\n",
    "        self.accepted_messages[message].append(callback)\n",
    "        \n",
    "    def respond_to_greeting(self):\n",
    "        print(\"Hello!\")\n",
    "        \n",
    "    def respond_to_departure(self):\n",
    "        print(\"Nice chatting with you!\")\n",
    "            \n",
    "    def respond_to_age_request(self):\n",
    "        age = datetime.now() - self.birth_time\n",
    "        print(\"I am\", age.seconds, \"seconds old.\")\n",
    "        \n",
    "    def respond_to_age_request_detailed(self):\n",
    "        age = datetime.now() - self.birth_time\n",
    "        micros = age.microseconds\n",
    "        print(\"Technically, I'm\", age.seconds, \"seconds and\", \n",
    "              micros, \"microseconds old\")\n",
    "        \n",
    "    def handle_message(self, message):\n",
    "        if message not in self.accepted_messages:\n",
    "            print(\"sorry, I don't understand\", message)\n",
    "        else:\n",
    "            callbacks = self.accepted_messages[message]\n",
    "#             for callback in callbacks:\n",
    "#                 callback() \n",
    "            callbacks[0]()\n",
    "            if (message == \"age?\") and (len(callbacks) == 2):\n",
    "                del self.accepted_messages[message][0]\n",
    "                \n",
    "bot = EventDrivenChatBot()\n",
    "bot.handle_message(\"hi\")\n",
    "bot.handle_message(\"how are you doing?\")\n",
    "time.sleep(2.2)\n",
    "bot.handle_message(\"age?\")\n",
    "bot.handle_message(\"age?\")\n",
    "bot.handle_message(\"bye\")\n",
    "bot.handle_message(\"age?\")"
   ]
  },
  {
   "cell_type": "code",
   "execution_count": null,
   "metadata": {},
   "outputs": [],
   "source": []
  }
 ],
 "metadata": {
  "kernelspec": {
   "display_name": "Python 3",
   "language": "python",
   "name": "python3"
  },
  "language_info": {
   "codemirror_mode": {
    "name": "ipython",
    "version": 3
   },
   "file_extension": ".py",
   "mimetype": "text/x-python",
   "name": "python",
   "nbconvert_exporter": "python",
   "pygments_lexer": "ipython3",
   "version": "3.6.0"
  }
 },
 "nbformat": 4,
 "nbformat_minor": 2
}
